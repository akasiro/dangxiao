{
 "cells": [
  {
   "cell_type": "code",
   "execution_count": 40,
   "metadata": {},
   "outputs": [],
   "source": [
    "from selenium import webdriver\n",
    "from selenium.webdriver.common.by import By\n",
    "from selenium.webdriver.support.ui import WebDriverWait\n",
    "from selenium.webdriver.support import expected_conditions as EC\n",
    "from selenium.common.exceptions import TimeoutException #超时的异常\n",
    "from bs4 import BeautifulSoup\n",
    "from selenium.webdriver.common.desired_capabilities import DesiredCapabilities\n",
    "import time"
   ]
  },
  {
   "cell_type": "code",
   "execution_count": 15,
   "metadata": {},
   "outputs": [],
   "source": [
    "driver = webdriver.Chrome()\n",
    "driver.get('http://dxonline.ruc.edu.cn')\n",
    "wait = WebDriverWait(driver,10)"
   ]
  },
  {
   "cell_type": "code",
   "execution_count": 24,
   "metadata": {},
   "outputs": [],
   "source": [
    "handles = driver.window_handles\n",
    "handle = driver.current_window_handle\n",
    "for h in handles:\n",
    "    driver.switch_to_window(h)\n",
    "    try:\n",
    "        wait.until(\n",
    "            EC.presence_of_element_located((By.CSS_SELECTOR,'#myVideo'))\n",
    "        )\n",
    "        break\n",
    "    except TimeoutException:\n",
    "        continue"
   ]
  },
  {
   "cell_type": "code",
   "execution_count": 28,
   "metadata": {},
   "outputs": [
    {
     "name": "stdout",
     "output_type": "stream",
     "text": [
      "no found\n"
     ]
    }
   ],
   "source": [
    "try:\n",
    "    start = wait.until(\n",
    "        EC.element_to_be_clickable((By.CSS_SELECTOR,'body > doctype > div.content > div > div.fl > div.ts1.tanc > p'))\n",
    "    )\n",
    "    start.click()\n",
    "except TimeoutException:\n",
    "    print('no found')"
   ]
  },
  {
   "cell_type": "code",
   "execution_count": 41,
   "metadata": {},
   "outputs": [
    {
     "ename": "KeyboardInterrupt",
     "evalue": "",
     "output_type": "error",
     "traceback": [
      "\u001b[1;31m---------------------------------------------------------------------------\u001b[0m",
      "\u001b[1;31mKeyboardInterrupt\u001b[0m                         Traceback (most recent call last)",
      "\u001b[1;32m<ipython-input-41-251cfba31620>\u001b[0m in \u001b[0;36m<module>\u001b[1;34m\u001b[0m\n\u001b[0;32m     31\u001b[0m         \u001b[1;32mexcept\u001b[0m \u001b[0mTimeoutException\u001b[0m\u001b[1;33m:\u001b[0m\u001b[1;33m\u001b[0m\u001b[0m\n\u001b[0;32m     32\u001b[0m             \u001b[1;32mpass\u001b[0m\u001b[1;33m\u001b[0m\u001b[0m\n\u001b[1;32m---> 33\u001b[1;33m     \u001b[0mtime\u001b[0m\u001b[1;33m.\u001b[0m\u001b[0msleep\u001b[0m\u001b[1;33m(\u001b[0m\u001b[1;36m120\u001b[0m\u001b[1;33m)\u001b[0m\u001b[1;33m\u001b[0m\u001b[0m\n\u001b[0m",
      "\u001b[1;31mKeyboardInterrupt\u001b[0m: "
     ]
    }
   ],
   "source": [
    "tstop1 = True\n",
    "tstop2 = True\n",
    "tstop3 = True\n",
    "while tstop1 | tstop2 | tstop3:\n",
    "    if tstop1:\n",
    "        try:\n",
    "            ts1 = wait.until(\n",
    "                EC.element_to_be_clickable((By.CSS_SELECTOR,'body > doctype > div.content > div > div.fl > div.ts21.tanc2 > p'))\n",
    "            )\n",
    "            ts1.click()\n",
    "            tstop1 = False\n",
    "        except TimeoutException:\n",
    "            pass\n",
    "    if tstop2:\n",
    "        try:\n",
    "            ts2 = wait.until(\n",
    "                EC.element_to_be_clickable((By.CSS_SELECTOR,'body > doctype > div.content > div > div.fl > div.ts22.tanc2 > p'))\n",
    "            )\n",
    "            ts2.click()\n",
    "            tstop2 = False\n",
    "        except TimeoutException:\n",
    "            pass\n",
    "            \n",
    "    if tstop3:\n",
    "        try:\n",
    "            ts3 = wait.until(\n",
    "                EC.element_to_be_clickable((By.CSS_SELECTOR,'body > doctype > div.content > div > div.fl > div.ts23.tanc2 > p'))\n",
    "            )\n",
    "            ts3.click()\n",
    "            tstop3 = False\n",
    "        except TimeoutException:\n",
    "            pass\n",
    "    time.sleep(120)"
   ]
  },
  {
   "cell_type": "code",
   "execution_count": 42,
   "metadata": {},
   "outputs": [],
   "source": [
    "driver.quit()"
   ]
  },
  {
   "cell_type": "code",
   "execution_count": null,
   "metadata": {},
   "outputs": [],
   "source": []
  }
 ],
 "metadata": {
  "kernelspec": {
   "display_name": "Python 3",
   "language": "python",
   "name": "python3"
  },
  "language_info": {
   "codemirror_mode": {
    "name": "ipython",
    "version": 3
   },
   "file_extension": ".py",
   "mimetype": "text/x-python",
   "name": "python",
   "nbconvert_exporter": "python",
   "pygments_lexer": "ipython3",
   "version": "3.6.2"
  }
 },
 "nbformat": 4,
 "nbformat_minor": 2
}
